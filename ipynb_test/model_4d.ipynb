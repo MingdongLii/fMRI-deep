{
 "nbformat": 4,
 "nbformat_minor": 2,
 "metadata": {
  "language_info": {
   "name": "python",
   "codemirror_mode": {
    "name": "ipython",
    "version": 3
   },
   "version": "3.7.3-final"
  },
  "orig_nbformat": 2,
  "file_extension": ".py",
  "mimetype": "text/x-python",
  "name": "python",
  "npconvert_exporter": "python",
  "pygments_lexer": "ipython3",
  "version": 3,
  "kernelspec": {
   "name": "python37364bitbasecondacf960c2959934e74b5d2787a1c143012",
   "display_name": "Python 3.7.3 64-bit ('base': conda)"
  }
 },
 "cells": [
  {
   "cell_type": "code",
   "execution_count": 1,
   "metadata": {},
   "outputs": [],
   "source": [
    "import os, sys\n",
    "import torch\n",
    "import torch.nn as nn\n",
    "import torch.nn.functional as F\n",
    "\n",
    "# from models import resnet_ft\n",
    "# from models import resnet_ft_id\n",
    "# from models import resnet \n",
    "# from models import res2net\n",
    "# from models import res2net_id\n",
    "# 基于4-D数据的模型\n",
    "\n",
    "# Contrastive LOSS \n",
    "class ContrastiveLoss(nn.Module):\n",
    "    \"\"\"\n",
    "    Contrastive loss function.\n",
    "    Based on: http://yann.lecun.com/exdb/publis/pdf/hadsell-chopra-lecun-06.pdf\n",
    "    \"\"\"\n",
    "    def __init__(self, margin=2.0):\n",
    "        super(ContrastiveLoss, self).__init__()\n",
    "        self.margin = margin\n",
    "\n",
    "    def forward(self, output1, output2, label):\n",
    "        euclidean_distance = F.pairwise_distance(output1, output2, keepdim = True)\n",
    "        # 0: same   1: diff\n",
    "        # loss_contrastive = torch.mean((1-label) * torch.pow(euclidean_distance, 2) +\n",
    "        #                               (label) * torch.pow(torch.clamp(self.margin - euclidean_distance, min=0.0), 2))\n",
    "        \n",
    "        # 0: diff   1: same\n",
    "        loss_contrastive = torch.mean((label) * torch.pow(euclidean_distance, 2) +\n",
    "                                      (1-label) * torch.pow(torch.clamp(self.margin - euclidean_distance, min=0.0), 2))\n",
    "\n",
    "        # loss里的euclidean_distance 和 margin可能有问题，导致过拟合\n",
    "        # loss_contrastive = torch.sum((label) * torch.pow(euclidean_distance, 2) +\n",
    "        #                               (1-label) * torch.pow(torch.clamp(self.margin - euclidean_distance, min=0.0), 2))\n",
    "\n",
    "        return loss_contrastive"
   ]
  },
  {
   "cell_type": "code",
   "execution_count": 5,
   "metadata": {},
   "outputs": [],
   "source": [
    "class LSTM_Net(nn.Module):\n",
    "    # this is the baseline for code test\n",
    "    def __init__(self):\n",
    "        \"\"\"\n",
    "        Arguments:\n",
    "            nn {[type]} -- [description]\n",
    "            input batch_data: size = [batch_size, 1, 61, 73, 61]\n",
    "        \"\"\"\n",
    "        super(LSTM_Net, self).__init__()\n",
    "        self.base = nn.Sequential(\n",
    "            nn.AvgPool3d(3),\n",
    "            nn.Conv3d(in_channels=1,out_channels=4,kernel_size=(3,3,3),\n",
    "                 stride=1,padding=0,dilation=1,bias=False),\n",
    "            nn.ReLU(inplace=True),\n",
    "            nn.BatchNorm3d(4),\n",
    "            \n",
    "            nn.Conv3d(in_channels=4,out_channels=8,kernel_size=(3,3,3),\n",
    "                 stride=1,padding=0,dilation=1,groups=1,bias=False),\n",
    "            nn.ReLU(inplace=True),\n",
    "            nn.BatchNorm3d(8),\n",
    "\n",
    "            nn.Conv3d(8, 8, kernel_size=3),\n",
    "            nn.ReLU(inplace=True),\n",
    "            nn.BatchNorm3d(8)\n",
    "        )\n",
    "        \n",
    "        self.gap = nn.AdaptiveAvgPool3d(1)\n",
    "        self.fc = nn.Linear(960, 128)\n",
    "        self.lstm = nn.LSTM(128,16)\n",
    "        \n",
    "    def forward(self, x):\n",
    "        output=[]\n",
    "        for i in range(x.shape[5])\n",
    "            y = self.base(x)\n",
    "            y = self.gap(y)\n",
    "            y = output.view(y.size()[0], -1)\n",
    "            y = self.fc(y)\n",
    "            output.append(y)\n",
    "        return output_f"
   ]
  },
  {
   "cell_type": "code",
   "execution_count": 6,
   "metadata": {},
   "outputs": [
    {
     "name": "stderr",
     "output_type": "stream",
     "text": "D:\\anaconda\\lib\\site-packages\\sklearn\\externals\\joblib\\__init__.py:15: DeprecationWarning: sklearn.externals.joblib is deprecated in 0.21 and will be removed in 0.23. Please import this functionality directly from joblib, which can be installed with: pip install joblib. If this warning is raised when loading pickled models, you may need to re-serialize those models with scikit-learn 0.21+.\n  warnings.warn(msg, category=DeprecationWarning)\n"
    }
   ],
   "source": [
    "import os\n",
    "import nilearn as nil\n",
    "from nilearn.image import new_img_like, load_img\n",
    "from nilearn import image,plotting\n",
    "\n",
    "import numpy as np"
   ]
  },
  {
   "cell_type": "code",
   "execution_count": 14,
   "metadata": {},
   "outputs": [
    {
     "name": "stdout",
     "output_type": "stream",
     "text": "(49, 58, 47, 232)\n"
    }
   ],
   "source": [
    "ab_dir = 'e:/master_project/fMRI/data/siam/train_bold'\n",
    "bold_list = os.listdir(ab_dir)\n",
    "b = load_img(os.path.join(ab_dir,bold_list[0]))\n",
    "print(b.shape)\n",
    "data = b.get_fdata()"
   ]
  },
  {
   "cell_type": "code",
   "execution_count": 19,
   "metadata": {},
   "outputs": [
    {
     "data": {
      "text/plain": "[tensor([[ 2.4770, -1.3375,  0.8278]]),\n tensor([[-0.1497,  0.0024, -2.1038]]),\n tensor([[-1.0671,  0.0348, -2.0075]]),\n tensor([[-0.7579, -0.0211, -0.2151]]),\n tensor([[ 1.6865, -0.9434,  0.7096]])]"
     },
     "execution_count": 19,
     "metadata": {},
     "output_type": "execute_result"
    }
   ],
   "source": [
    "model = LSTM_Net()\n",
    "inputs = torch.randn(8,1,49,58,47,232)\n",
    "p1 = inputs[:,:,:,:,:,0:16]\n",
    "\n"
   ]
  }
 ]
}