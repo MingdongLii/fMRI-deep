{
 "nbformat": 4,
 "nbformat_minor": 2,
 "metadata": {
  "language_info": {
   "name": "python",
   "codemirror_mode": {
    "name": "ipython",
    "version": 3
   },
   "version": "3.7.3"
  },
  "orig_nbformat": 2,
  "file_extension": ".py",
  "mimetype": "text/x-python",
  "name": "python",
  "npconvert_exporter": "python",
  "pygments_lexer": "ipython3",
  "version": 3
 },
 "cells": [
  {
   "cell_type": "code",
   "metadata": {},
   "outputs": [],
   "source": [
    "import os\n",
    "import nilearn as nil\n",
    "from nilearn.image import new_img_like, load_img\n",
    "\n",
    "import numpy as np"
   ]
  },
  {
   "cell_type": "code",
   "metadata": {},
   "outputs": [],
   "source": [
    "import torch\n",
    "pdist = torch.nn.PairwiseDistance(p=2)\n",
    "cos = torch.nn.CosineSimilarity(dim=1, eps=1e-6)\n",
    "input1 = torch.randn(100, 128)\n",
    "input2 = torch.randn(100, 128)\n",
    "output_euc = pdist(input1, input2)\n",
    "output_cos = cos(input1, input2)\n",
    "\n",
    "print(output_euc)\n",
    "print(output_cos)"
   ]
  },
  {
   "cell_type": "code",
   "metadata": {},
   "outputs": [],
   "source": [
    "reho_list = os.listdir('./data/siam/train_reho')\n",
    "alff_list = os.listdir('./data/siam/train_falff')"
   ]
  },
  {
   "cell_type": "code",
   "metadata": {},
   "outputs": [],
   "source": [
    "import random\n",
    "random_rc = random.choices(reho_list,k=5)\n",
    "random_ac = random.choices(alff_list,k=5)\n",
    "for i in range(len(random_rc)):\n",
    "    r = load_img(os.path.join('./data/siam/train_reho/',random_rc[i]))\n",
    "    a = load_img(os.path.join('./data/siam/train_falff/',random_ac[i]))\n",
    "    print('reho %d: '%i,r.shape)\n",
    "    print('alff %d: '%i,a.shape)\n"
   ]
  },
  {
   "cell_type": "code",
   "metadata": {},
   "outputs": [],
   "source": [
    "a_1 = a.get_data().reshape(-1)\n",
    "print(a_1.shape)\n",
    "a_1 = np.unique(a_1)\n",
    "a_1.sort()\n",
    "print(a_1)"
   ]
  },
  {
   "cell_type": "code",
   "metadata": {},
   "outputs": [],
   "source": [
    "r_1 = r.get_data().reshape(-1)\n",
    "print(r_1.shape)\n",
    "r_1 = np.unique(r_1)\n",
    "r_1.sort()\n",
    "print(r_1)"
   ]
  }
 ]
}